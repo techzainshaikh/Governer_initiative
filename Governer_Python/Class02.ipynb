{
 "cells": [
  {
   "cell_type": "code",
   "execution_count": 1,
   "id": "51091a40-ce38-47ca-9b62-523a4bfd0baf",
   "metadata": {},
   "outputs": [
    {
     "name": "stdin",
     "output_type": "stream",
     "text": [
      "Enter a message :  Hey How are You\n"
     ]
    },
    {
     "name": "stdout",
     "output_type": "stream",
     "text": [
      "Hey How are You\n"
     ]
    }
   ],
   "source": [
    "str = input(\"Enter a message : \")\n",
    "\n",
    "print(str)"
   ]
  },
  {
   "cell_type": "code",
   "execution_count": null,
   "id": "10691d84-20af-49f5-a86c-5fcf3ce669e1",
   "metadata": {},
   "outputs": [],
   "source": [
    "table = int(input(\"Enter a Table No :\"))\n",
    "\n",
    "for i in range(1,11):\n",
    "    print(f\"{table} X {i} = {table * i} \")"
   ]
  },
  {
   "cell_type": "code",
   "execution_count": null,
   "id": "3b5eceff-0df2-4751-a066-cfbc2becbd48",
   "metadata": {},
   "outputs": [],
   "source": []
  }
 ],
 "metadata": {
  "kernelspec": {
   "display_name": "Python 3 (ipykernel)",
   "language": "python",
   "name": "python3"
  },
  "language_info": {
   "codemirror_mode": {
    "name": "ipython",
    "version": 3
   },
   "file_extension": ".py",
   "mimetype": "text/x-python",
   "name": "python",
   "nbconvert_exporter": "python",
   "pygments_lexer": "ipython3",
   "version": "3.11.10"
  }
 },
 "nbformat": 4,
 "nbformat_minor": 5
}
